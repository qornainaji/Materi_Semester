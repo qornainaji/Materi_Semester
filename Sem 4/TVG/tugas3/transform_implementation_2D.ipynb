{
 "cells": [
  {
   "cell_type": "code",
   "execution_count": 1,
   "metadata": {},
   "outputs": [
    {
     "name": "stderr",
     "output_type": "stream",
     "text": [
      "Cloning into 'linear_transform_labwork_ugm'...\n"
     ]
    }
   ],
   "source": [
    "! git clone https://ahmadataka@bitbucket.org/ahmadataka/linear_transform_labwork_ugm.git"
   ]
  },
  {
   "cell_type": "code",
   "execution_count": 2,
   "metadata": {},
   "outputs": [],
   "source": [
    "from linear_transform_labwork_ugm.linear_transform import plot_vectors, draw_polygon\n",
    "import numpy as np"
   ]
  },
  {
   "cell_type": "code",
   "execution_count": 8,
   "metadata": {},
   "outputs": [
    {
     "name": "stdout",
     "output_type": "stream",
     "text": [
      "[[-1]\n",
      " [ 0]]\n"
     ]
    }
   ],
   "source": [
    "vector_a = np.array([[-1], [0]])\n",
    "vector_b = np.array([[1], [0]])\n",
    "vector_c = np.array([[-1], [1]])\n",
    "vector_d = np.array([[1], [1]])\n",
    "\n",
    "print(vector_a)"
   ]
  },
  {
   "cell_type": "code",
   "execution_count": 9,
   "metadata": {},
   "outputs": [
    {
     "data": {
      "image/png": "[encoded data removed]",
      "text/plain": [
       "<Figure size 432x288 with 1 Axes>"
      ]
     },
     "metadata": {
      "needs_background": "light"
     },
     "output_type": "display_data"
    }
   ],
   "source": [
    "draw_polygon(vector_a,\n",
    "vector_b,\n",
    "vector_c,\n",
    "vector_d,\n",
    ")"
   ]
  },
  {
   "cell_type": "code",
   "execution_count": 20,
   "metadata": {},
   "outputs": [],
   "source": [
    "def print_as_3x3(array):\n",
    "    result = n.\n",
    "    for i in array:\n",
    "        if"
   ]
  },
  {
   "cell_type": "code",
   "execution_count": 13,
   "metadata": {},
   "outputs": [],
   "source": [
    "# draw_polygon(vector_gabungan)"
   ]
  },
  {
   "attachments": {},
   "cell_type": "markdown",
   "metadata": {},
   "source": [
    "# **Translasi**\n",
    "\n",
    "Melakukan translasi kearah x=2 dan y=3"
   ]
  },
  {
   "cell_type": "code",
   "execution_count": 22,
   "metadata": {},
   "outputs": [
    {
     "data": {
      "text/plain": [
       "array([[1, 0, 2],\n",
       "       [0, 1, 3],\n",
       "       [0, 0, 1]])"
      ]
     },
     "execution_count": 22,
     "metadata": {},
     "output_type": "execute_result"
    }
   ],
   "source": [
    "txy = np.array([[1, 0, 2],\n",
    "                [0, 1, 3],\n",
    "                [0, 0, 1]])\n",
    "\n",
    "Txy"
   ]
  },
  {
   "cell_type": "code",
   "execution_count": 23,
   "metadata": {},
   "outputs": [
    {
     "ename": "ValueError",
     "evalue": "matmul: Input operand 1 has a mismatch in its core dimension 0, with gufunc signature (n?,k),(k,m?)->(n?,m?) (size 2 is different from 3)",
     "output_type": "error",
     "traceback": [
      "\u001b[1;31m---------------------------------------------------------------------------\u001b[0m",
      "\u001b[1;31mValueError\u001b[0m                                Traceback (most recent call last)",
      "\u001b[1;32mf:\\Data Qornain\\Materi Matkul\\Materi_Semester\\Sem 4\\TVG\\tugas3\\transform_implementation_2D.ipynb Cell 9\u001b[0m in \u001b[0;36m<cell line: 1>\u001b[1;34m()\u001b[0m\n\u001b[1;32m----> <a href='vscode-notebook-cell:/f%3A/Data%20Qornain/Materi%20Matkul/Materi_Semester/Sem%204/TVG/tugas3/transform_implementation_2D.ipynb#X11sZmlsZQ%3D%3D?line=0'>1</a>\u001b[0m vector_at \u001b[39m=\u001b[39m txy\u001b[39m@vector_a\u001b[39;49m\n\u001b[0;32m      <a href='vscode-notebook-cell:/f%3A/Data%20Qornain/Materi%20Matkul/Materi_Semester/Sem%204/TVG/tugas3/transform_implementation_2D.ipynb#X11sZmlsZQ%3D%3D?line=1'>2</a>\u001b[0m vector_bt \u001b[39m=\u001b[39m txy\u001b[39m@vector_b\u001b[39m\n\u001b[0;32m      <a href='vscode-notebook-cell:/f%3A/Data%20Qornain/Materi%20Matkul/Materi_Semester/Sem%204/TVG/tugas3/transform_implementation_2D.ipynb#X11sZmlsZQ%3D%3D?line=2'>3</a>\u001b[0m vector_ct \u001b[39m=\u001b[39m txy\u001b[39m@vector_c\u001b[39m \n",
      "\u001b[1;31mValueError\u001b[0m: matmul: Input operand 1 has a mismatch in its core dimension 0, with gufunc signature (n?,k),(k,m?)->(n?,m?) (size 2 is different from 3)"
     ]
    }
   ],
   "source": [
    "vector_at = txy@vector_a\n",
    "vector_bt = txy@vector_b\n",
    "vector_ct = txy@vector_c \n",
    "vector_dt = txy@vector_d\n",
    "\n",
    "draw_polygon(vector_at, vector_bt, vector_ct, vector_dt)"
   ]
  },
  {
   "cell_type": "code",
   "execution_count": null,
   "metadata": {},
   "outputs": [],
   "source": []
  }
 ],
 "metadata": {
  "kernelspec": {
   "display_name": "base",
   "language": "python",
   "name": "python3"
  },
  "language_info": {
   "codemirror_mode": {
    "name": "ipython",
    "version": 3
   },
   "file_extension": ".py",
   "mimetype": "text/x-python",
   "name": "python",
   "nbconvert_exporter": "python",
   "pygments_lexer": "ipython3",
   "version": "3.9.12"
  },
  "orig_nbformat": 4
 },
 "nbformat": 4,
 "nbformat_minor": 2
}
